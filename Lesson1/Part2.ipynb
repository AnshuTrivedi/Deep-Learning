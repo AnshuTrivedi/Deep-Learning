{
 "cells": [
  {
   "cell_type": "markdown",
   "metadata": {},
   "source": [
    "   ## About Pytoch and lesson1"
   ]
  },
  {
   "cell_type": "markdown",
   "metadata": {},
   "source": [
    "### Note:\n",
    "* Pytorch developed as open source plateform by Facebook AI Research team\n",
    "### Lesson overview\n",
    "#### 1.Tensors(Main data structure of Pytorch)\n",
    "  * How to create?\n",
    "  * Simle operations on Tensors\n",
    "  * How tensors interact with NumPy?\n",
    "#### 2.Autograd module\n",
    "  * Calculate gradients for training neural networks\n",
    "  * It does all the work of backpropagation \n",
    "#### 3.Process\n",
    "   * Use PyTorch to build a network and run data forward through it\n",
    "   * Define a loss and an optimization method to train the neural network on a      dataset of handwritten digits\n",
    "   * Learn how to test that your network is able to generalize through               validation.\n",
    "   * Transfer learning\n",
    "#### Dependencies\n",
    "   * These notebooks require PyTorch v0.4 or newer, and torchvision\n",
    "   * Read Pytorch and Conda documentation\n",
    "   * CUDA to accelerate operations using the GPU\n",
    "   * Use cloud platforms such as AWS, GCP, and FloydHub to train your networks      on a GPU\n",
    "   * To get notebooks fork udacity deeplearning repo on github"
   ]
  },
  {
   "cell_type": "code",
   "execution_count": null,
   "metadata": {},
   "outputs": [],
   "source": []
  }
 ],
 "metadata": {
  "kernelspec": {
   "display_name": "Python 3",
   "language": "python",
   "name": "python3"
  },
  "language_info": {
   "codemirror_mode": {
    "name": "ipython",
    "version": 3
   },
   "file_extension": ".py",
   "mimetype": "text/x-python",
   "name": "python",
   "nbconvert_exporter": "python",
   "pygments_lexer": "ipython3",
   "version": "3.7.3"
  }
 },
 "nbformat": 4,
 "nbformat_minor": 2
}
